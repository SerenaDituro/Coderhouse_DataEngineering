{
 "cells": [
  {
   "cell_type": "markdown",
   "metadata": {},
   "source": [
    "# Conexión y Extracción de datos desde una API pública de Finanzas"
   ]
  },
  {
   "cell_type": "code",
   "execution_count": 77,
   "metadata": {},
   "outputs": [
    {
     "name": "stdout",
     "output_type": "stream",
     "text": [
      "Los datos se han extraído correctamente!\n"
     ]
    }
   ],
   "source": [
    "import requests\n",
    "import json\n",
    "import os\n",
    "from dotenv import load_dotenv\n",
    "\n",
    "def download_data(api_url,params):\n",
    "    response = requests.get(api_url,params=params)\n",
    "    \n",
    "    if response.status_code == 200:\n",
    "        try:\n",
    "            data = json.loads(response.text)\n",
    "            errors = [(value['code'],value['message'],value['status']) for key, value in data.items() if 'code' in value and value['code'] in [400, 401, 403, 404, 414, 429, 500]]\n",
    "            if errors:\n",
    "                for error in errors:\n",
    "                    code, message, status = error\n",
    "                    print(f\"{code}\\n{message}\\n{status}\\n\")\n",
    "                return None\n",
    "            else:\n",
    "                print(\"Los datos se han extraído correctamente!\")\n",
    "                return data\n",
    "        except json.JSONDecodeError as e:\n",
    "            print(f\"JSONDecodeError: {e}\")\n",
    "    else:\n",
    "        print(f\"Request failed with status code: {response.status_code}\")\n",
    "    \n",
    "    return None\n",
    "\n",
    "load_dotenv()\n",
    "\n",
    "base_url = 'https://api.twelvedata.com' \n",
    "endpoint = '/time_series' \n",
    "params = {\n",
    "    'symbol': 'AAPL,AMZN,TSLA,META,MSFT,GOOG,SPY,QQQ',\n",
    "    'interval': '1day',\n",
    "    'start_date': '2024-01-01',\n",
    "    'apikey': os.getenv('APIKEY')\n",
    "}\n",
    "\n",
    "api_url = base_url + endpoint\n",
    "\n",
    "data = download_data(api_url,params)"
   ]
  },
  {
   "cell_type": "markdown",
   "metadata": {},
   "source": [
    "# Obtención del DataFrame y Transformación de datos"
   ]
  },
  {
   "cell_type": "code",
   "execution_count": 78,
   "metadata": {},
   "outputs": [
    {
     "data": {
      "text/html": [
       "<div>\n",
       "<style scoped>\n",
       "    .dataframe tbody tr th:only-of-type {\n",
       "        vertical-align: middle;\n",
       "    }\n",
       "\n",
       "    .dataframe tbody tr th {\n",
       "        vertical-align: top;\n",
       "    }\n",
       "\n",
       "    .dataframe thead th {\n",
       "        text-align: right;\n",
       "    }\n",
       "</style>\n",
       "<table border=\"1\" class=\"dataframe\">\n",
       "  <thead>\n",
       "    <tr style=\"text-align: right;\">\n",
       "      <th></th>\n",
       "      <th>symbol</th>\n",
       "      <th>currency</th>\n",
       "      <th>exchange_timezone</th>\n",
       "      <th>exchange</th>\n",
       "      <th>mic_code</th>\n",
       "      <th>type</th>\n",
       "      <th>datetime</th>\n",
       "      <th>open_value</th>\n",
       "      <th>high_value</th>\n",
       "      <th>low_value</th>\n",
       "      <th>close_value</th>\n",
       "      <th>volume</th>\n",
       "      <th>datetime_load</th>\n",
       "    </tr>\n",
       "  </thead>\n",
       "  <tbody>\n",
       "    <tr>\n",
       "      <th>0</th>\n",
       "      <td>AAPL</td>\n",
       "      <td>USD</td>\n",
       "      <td>America/New_York</td>\n",
       "      <td>NASDAQ</td>\n",
       "      <td>XNGS</td>\n",
       "      <td>Common Stock</td>\n",
       "      <td>2024-04-29</td>\n",
       "      <td>173.39</td>\n",
       "      <td>176.03</td>\n",
       "      <td>173.12</td>\n",
       "      <td>173.50</td>\n",
       "      <td>66144936</td>\n",
       "      <td>2024-04-29 20:27:19</td>\n",
       "    </tr>\n",
       "    <tr>\n",
       "      <th>1</th>\n",
       "      <td>AAPL</td>\n",
       "      <td>USD</td>\n",
       "      <td>America/New_York</td>\n",
       "      <td>NASDAQ</td>\n",
       "      <td>XNGS</td>\n",
       "      <td>Common Stock</td>\n",
       "      <td>2024-04-26</td>\n",
       "      <td>169.88</td>\n",
       "      <td>171.34</td>\n",
       "      <td>169.18</td>\n",
       "      <td>169.30</td>\n",
       "      <td>44525100</td>\n",
       "      <td>2024-04-29 20:27:19</td>\n",
       "    </tr>\n",
       "    <tr>\n",
       "      <th>2</th>\n",
       "      <td>AAPL</td>\n",
       "      <td>USD</td>\n",
       "      <td>America/New_York</td>\n",
       "      <td>NASDAQ</td>\n",
       "      <td>XNGS</td>\n",
       "      <td>Common Stock</td>\n",
       "      <td>2024-04-25</td>\n",
       "      <td>169.53</td>\n",
       "      <td>170.61</td>\n",
       "      <td>168.15</td>\n",
       "      <td>169.89</td>\n",
       "      <td>50558300</td>\n",
       "      <td>2024-04-29 20:27:19</td>\n",
       "    </tr>\n",
       "    <tr>\n",
       "      <th>3</th>\n",
       "      <td>AAPL</td>\n",
       "      <td>USD</td>\n",
       "      <td>America/New_York</td>\n",
       "      <td>NASDAQ</td>\n",
       "      <td>XNGS</td>\n",
       "      <td>Common Stock</td>\n",
       "      <td>2024-04-24</td>\n",
       "      <td>166.54</td>\n",
       "      <td>169.30</td>\n",
       "      <td>166.21</td>\n",
       "      <td>169.02</td>\n",
       "      <td>48251800</td>\n",
       "      <td>2024-04-29 20:27:19</td>\n",
       "    </tr>\n",
       "    <tr>\n",
       "      <th>4</th>\n",
       "      <td>AAPL</td>\n",
       "      <td>USD</td>\n",
       "      <td>America/New_York</td>\n",
       "      <td>NASDAQ</td>\n",
       "      <td>XNGS</td>\n",
       "      <td>Common Stock</td>\n",
       "      <td>2024-04-23</td>\n",
       "      <td>165.35</td>\n",
       "      <td>167.05</td>\n",
       "      <td>164.92</td>\n",
       "      <td>166.90</td>\n",
       "      <td>49537800</td>\n",
       "      <td>2024-04-29 20:27:19</td>\n",
       "    </tr>\n",
       "  </tbody>\n",
       "</table>\n",
       "</div>"
      ],
      "text/plain": [
       "  symbol currency exchange_timezone exchange mic_code          type  \\\n",
       "0   AAPL      USD  America/New_York   NASDAQ     XNGS  Common Stock   \n",
       "1   AAPL      USD  America/New_York   NASDAQ     XNGS  Common Stock   \n",
       "2   AAPL      USD  America/New_York   NASDAQ     XNGS  Common Stock   \n",
       "3   AAPL      USD  America/New_York   NASDAQ     XNGS  Common Stock   \n",
       "4   AAPL      USD  America/New_York   NASDAQ     XNGS  Common Stock   \n",
       "\n",
       "    datetime  open_value  high_value  low_value  close_value    volume  \\\n",
       "0 2024-04-29      173.39      176.03     173.12       173.50  66144936   \n",
       "1 2024-04-26      169.88      171.34     169.18       169.30  44525100   \n",
       "2 2024-04-25      169.53      170.61     168.15       169.89  50558300   \n",
       "3 2024-04-24      166.54      169.30     166.21       169.02  48251800   \n",
       "4 2024-04-23      165.35      167.05     164.92       166.90  49537800   \n",
       "\n",
       "        datetime_load  \n",
       "0 2024-04-29 20:27:19  \n",
       "1 2024-04-29 20:27:19  \n",
       "2 2024-04-29 20:27:19  \n",
       "3 2024-04-29 20:27:19  \n",
       "4 2024-04-29 20:27:19  "
      ]
     },
     "execution_count": 78,
     "metadata": {},
     "output_type": "execute_result"
    }
   ],
   "source": [
    "import pandas as pd\n",
    "from datetime import datetime\n",
    "\n",
    "# Transformación de datos\n",
    "for key, value in data.items():\n",
    "    for val in value['values']:\n",
    "        if 'datetime' in val:\n",
    "            val['datetime'] = datetime.strptime(val['datetime'], \"%Y-%m-%d\")\n",
    "        if 'open' in val:\n",
    "            val['open'] = round(float(val['open']), 3)\n",
    "        if 'high' in val:\n",
    "            val['high'] = round(float(val['high']), 3)\n",
    "        if 'low' in val:\n",
    "            val['low'] = round(float(val['low']), 3)\n",
    "        if 'close' in val:\n",
    "            val['close'] = round(float(val['close']), 3)\n",
    "        if 'volume' in val:\n",
    "            val['volume'] = int(val['volume'])\n",
    "\n",
    "# Creación del dataframe a partir de una lista de compresión\n",
    "df = pd.DataFrame([\n",
    "    {\n",
    "        'symbol': value['meta']['symbol'],\n",
    "        'currency': value['meta']['currency'],\n",
    "        'exchange_timezone': value['meta']['exchange_timezone'],\n",
    "        'exchange': value['meta']['exchange'],\n",
    "        'mic_code': value['meta']['mic_code'],\n",
    "        'type': value['meta']['type'],\n",
    "        **val,\n",
    "        'datetime_load': pd.Timestamp.now().round(\"1s\"),\n",
    "    }\n",
    "    for key, value in data.items() \n",
    "        for val in value['values']\n",
    "])\n",
    "\n",
    "df = df.rename(columns={'open': 'open_value', 'high': 'high_value', 'low': 'low_value', 'close': 'close_value'})\n",
    "\n",
    "df.head()"
   ]
  },
  {
   "cell_type": "markdown",
   "metadata": {},
   "source": [
    "# Conexión a la Base de Datos en Amazon Redshift"
   ]
  },
  {
   "cell_type": "code",
   "execution_count": 79,
   "metadata": {},
   "outputs": [
    {
     "name": "stdout",
     "output_type": "stream",
     "text": [
      "Se ha establecido la conexión con Amazon Redshift de manera exitosa!\n",
      "\n"
     ]
    }
   ],
   "source": [
    "import psycopg2\n",
    "\n",
    "load_dotenv()\n",
    "\n",
    "try:\n",
    "    conn = psycopg2.connect(\n",
    "        host = os.getenv('AR_HOST'),\n",
    "        dbname = os.getenv('AR_DATABASE'),\n",
    "        user = os.getenv('AR_USER'),\n",
    "        password = os.getenv('AR_PASSWORD'),\n",
    "        port = os.getenv('AR_PORT')\n",
    "    )\n",
    "    print(\"Se ha establecido la conexión con Amazon Redshift de manera exitosa!\\n\")\n",
    "except Exception as e:\n",
    "    print(f\"No es posible establecer la conexión con Amazon Redshift\\nError: {e}\\n\")"
   ]
  },
  {
   "cell_type": "markdown",
   "metadata": {},
   "source": [
    "# Creación de Tabla"
   ]
  },
  {
   "cell_type": "code",
   "execution_count": 80,
   "metadata": {},
   "outputs": [
    {
     "name": "stdout",
     "output_type": "stream",
     "text": [
      "Operación realizada con éxito!\n",
      "\n"
     ]
    }
   ],
   "source": [
    "table_name = 'serenadituro_coderhouse.finances'\n",
    "try:\n",
    "    with conn.cursor() as cur:\n",
    "        create_table = f''' CREATE TABLE IF NOT EXISTS {table_name} (\n",
    "                    symbol VARCHAR(10) NOT NULL,\n",
    "                    currency VARCHAR(30) NOT NULL,\n",
    "                    exchange_timezone VARCHAR(50) NOT NULL,\n",
    "                    exchange VARCHAR(20) NOT NULL,\n",
    "                    mic_code VARCHAR(10) NOT NULL,\n",
    "                    type VARCHAR(30) NOT NULL,\n",
    "                    datetime DATE NOT NULL,\n",
    "                    open_value FLOAT NOT NULL,\n",
    "                    high_value FLOAT NOT NULL,\n",
    "                    low_value FLOAT NOT NULL,\n",
    "                    close_value FLOAT NOT NULL,\n",
    "                    volume INT NOT NULL,\n",
    "                    datetime_load DATETIME NOT NULL,\n",
    "                    PRIMARY KEY(symbol,datetime)\n",
    "                )'''\n",
    "        cur.execute(create_table)\n",
    "        conn.commit()\n",
    "        print(f'Operación realizada con éxito!\\n')\n",
    "except Exception as e:\n",
    "    print(f'Error al crear la tabla\\n{e}\\n')"
   ]
  },
  {
   "cell_type": "markdown",
   "metadata": {},
   "source": [
    "# Carga de datos a la tabla de Redshift"
   ]
  },
  {
   "cell_type": "code",
   "execution_count": 81,
   "metadata": {},
   "outputs": [
    {
     "name": "stdout",
     "output_type": "stream",
     "text": [
      "Los datos se han insertado correctamente!\n",
      "\n"
     ]
    }
   ],
   "source": [
    "try: \n",
    "    with conn.cursor() as cur:\n",
    "        index = 0\n",
    "        for row in df.itertuples(index=False):\n",
    "            # verifico si el dato fue previamente insertado en la tabla\n",
    "            select_data = f'''SELECT COUNT(*) FROM {table_name} WHERE symbol = %s AND datetime = %s'''\n",
    "            cur.execute(select_data, (row.symbol, row.datetime))\n",
    "            result = cur.fetchone()\n",
    "            # si no existe un dato con el mismo símbolo y fecha asociada, se inserta en la tabla\n",
    "            if result[0] == 0:  \n",
    "                placeholder = ', '.join(['%s'] * len(df.columns))\n",
    "                insert_data = f\"INSERT INTO {table_name} ({', '.join(df.columns)}) VALUES ({placeholder})\"\n",
    "                cur.execute(insert_data, df.values.tolist()[index])\n",
    "                print('Dato insertado...\\n')\n",
    "            index += 1\n",
    "    conn.commit()\n",
    "    print(f'Los datos se han insertado correctamente!\\n')\n",
    "except Exception as e:\n",
    "    print(f'Error al insertar los datos\\n{e}\\n')"
   ]
  },
  {
   "cell_type": "markdown",
   "metadata": {},
   "source": [
    "# Cierre de la conexión a la Base de Datos"
   ]
  },
  {
   "cell_type": "code",
   "execution_count": 82,
   "metadata": {},
   "outputs": [],
   "source": [
    "conn.close()"
   ]
  }
 ],
 "metadata": {
  "kernelspec": {
   "display_name": "Python 3",
   "language": "python",
   "name": "python3"
  },
  "language_info": {
   "codemirror_mode": {
    "name": "ipython",
    "version": 3
   },
   "file_extension": ".py",
   "mimetype": "text/x-python",
   "name": "python",
   "nbconvert_exporter": "python",
   "pygments_lexer": "ipython3",
   "version": "3.9.5"
  }
 },
 "nbformat": 4,
 "nbformat_minor": 2
}
